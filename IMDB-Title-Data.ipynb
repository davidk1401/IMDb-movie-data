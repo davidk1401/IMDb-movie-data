{
 "cells": [
  {
   "cell_type": "code",
   "execution_count": 76,
   "id": "aa7be038",
   "metadata": {},
   "outputs": [
    {
     "name": "stderr",
     "output_type": "stream",
     "text": [
      "/var/folders/vb/t35ftt3d30b0gf_9v37z7st80000gn/T/ipykernel_14156/4112903750.py:3: DtypeWarning: Columns (4,5) have mixed types. Specify dtype option on import or set low_memory=False.\n",
      "  df = pd.read_csv('/Users/davidkatilius/Documents/Raw_Datasets/IMDB/title.basics.tsv', sep='\\t')\n"
     ]
    },
    {
     "data": {
      "text/html": [
       "<div>\n",
       "<style scoped>\n",
       "    .dataframe tbody tr th:only-of-type {\n",
       "        vertical-align: middle;\n",
       "    }\n",
       "\n",
       "    .dataframe tbody tr th {\n",
       "        vertical-align: top;\n",
       "    }\n",
       "\n",
       "    .dataframe thead th {\n",
       "        text-align: right;\n",
       "    }\n",
       "</style>\n",
       "<table border=\"1\" class=\"dataframe\">\n",
       "  <thead>\n",
       "    <tr style=\"text-align: right;\">\n",
       "      <th></th>\n",
       "      <th>tconst</th>\n",
       "      <th>titleType</th>\n",
       "      <th>primaryTitle</th>\n",
       "      <th>originalTitle</th>\n",
       "      <th>isAdult</th>\n",
       "      <th>startYear</th>\n",
       "      <th>endYear</th>\n",
       "      <th>runtimeMinutes</th>\n",
       "      <th>genres</th>\n",
       "    </tr>\n",
       "  </thead>\n",
       "  <tbody>\n",
       "    <tr>\n",
       "      <th>0</th>\n",
       "      <td>tt0000001</td>\n",
       "      <td>short</td>\n",
       "      <td>Carmencita</td>\n",
       "      <td>Carmencita</td>\n",
       "      <td>0</td>\n",
       "      <td>1894</td>\n",
       "      <td>\\N</td>\n",
       "      <td>1</td>\n",
       "      <td>Documentary,Short</td>\n",
       "    </tr>\n",
       "    <tr>\n",
       "      <th>1</th>\n",
       "      <td>tt0000002</td>\n",
       "      <td>short</td>\n",
       "      <td>Le clown et ses chiens</td>\n",
       "      <td>Le clown et ses chiens</td>\n",
       "      <td>0</td>\n",
       "      <td>1892</td>\n",
       "      <td>\\N</td>\n",
       "      <td>5</td>\n",
       "      <td>Animation,Short</td>\n",
       "    </tr>\n",
       "    <tr>\n",
       "      <th>2</th>\n",
       "      <td>tt0000003</td>\n",
       "      <td>short</td>\n",
       "      <td>Pauvre Pierrot</td>\n",
       "      <td>Pauvre Pierrot</td>\n",
       "      <td>0</td>\n",
       "      <td>1892</td>\n",
       "      <td>\\N</td>\n",
       "      <td>4</td>\n",
       "      <td>Animation,Comedy,Romance</td>\n",
       "    </tr>\n",
       "    <tr>\n",
       "      <th>3</th>\n",
       "      <td>tt0000004</td>\n",
       "      <td>short</td>\n",
       "      <td>Un bon bock</td>\n",
       "      <td>Un bon bock</td>\n",
       "      <td>0</td>\n",
       "      <td>1892</td>\n",
       "      <td>\\N</td>\n",
       "      <td>12</td>\n",
       "      <td>Animation,Short</td>\n",
       "    </tr>\n",
       "    <tr>\n",
       "      <th>4</th>\n",
       "      <td>tt0000005</td>\n",
       "      <td>short</td>\n",
       "      <td>Blacksmith Scene</td>\n",
       "      <td>Blacksmith Scene</td>\n",
       "      <td>0</td>\n",
       "      <td>1893</td>\n",
       "      <td>\\N</td>\n",
       "      <td>1</td>\n",
       "      <td>Comedy,Short</td>\n",
       "    </tr>\n",
       "  </tbody>\n",
       "</table>\n",
       "</div>"
      ],
      "text/plain": [
       "      tconst titleType            primaryTitle           originalTitle  \\\n",
       "0  tt0000001     short              Carmencita              Carmencita   \n",
       "1  tt0000002     short  Le clown et ses chiens  Le clown et ses chiens   \n",
       "2  tt0000003     short          Pauvre Pierrot          Pauvre Pierrot   \n",
       "3  tt0000004     short             Un bon bock             Un bon bock   \n",
       "4  tt0000005     short        Blacksmith Scene        Blacksmith Scene   \n",
       "\n",
       "  isAdult startYear endYear runtimeMinutes                    genres  \n",
       "0       0      1894      \\N              1         Documentary,Short  \n",
       "1       0      1892      \\N              5           Animation,Short  \n",
       "2       0      1892      \\N              4  Animation,Comedy,Romance  \n",
       "3       0      1892      \\N             12           Animation,Short  \n",
       "4       0      1893      \\N              1              Comedy,Short  "
      ]
     },
     "execution_count": 76,
     "metadata": {},
     "output_type": "execute_result"
    }
   ],
   "source": [
    "import pandas as pd\n",
    "\n",
    "df = pd.read_csv('/Users/davidkatilius/Documents/Raw_Datasets/IMDB/title.basics.tsv', sep='\\t')\n",
    "pd.set_option('display.max_columns', None)\n",
    "\n",
    "df.head()"
   ]
  },
  {
   "cell_type": "code",
   "execution_count": 77,
   "id": "243d91c3",
   "metadata": {},
   "outputs": [
    {
     "data": {
      "text/plain": [
       "array(['short', 'movie', 'tvEpisode', 'tvSeries', 'tvShort', 'tvMovie',\n",
       "       'tvMiniSeries', 'tvSpecial', 'video', 'videoGame', 'tvPilot'],\n",
       "      dtype=object)"
      ]
     },
     "execution_count": 77,
     "metadata": {},
     "output_type": "execute_result"
    }
   ],
   "source": [
    "df.titleType.unique()"
   ]
  },
  {
   "cell_type": "code",
   "execution_count": 78,
   "id": "8aa347d3",
   "metadata": {},
   "outputs": [
    {
     "data": {
      "text/plain": [
       "array([1894, 1892, 1893, 1895, 1896, 1898, 1897, 1900, 1899, 1901, 1902,\n",
       "       1903, 1905, 1904, 1912, 1907, 1906, 1908, 1910, 1909, 1914, 1911,\n",
       "       1913, 1915, 1919, 1916, 1917, 1918, 1936, 1925, 1920, 1922, 1921,\n",
       "       1923, 1924, 1928, 2019, 2021, 1926, 1927, 1929, 2000, 1993, 1935,\n",
       "       1930, 1942, 1934, 1931, 1932, 1939, 1937, 1933, 1950, 1938, 1951,\n",
       "       1945, 1946, 1940, 1944, 1949, 1947, 1941, 1952, 1970, 1957, 1943,\n",
       "       1959, 1948, 2001, 1953, 1954, 1965, 1983, 1980, 1973, 1961, 1995,\n",
       "       1955, 1962, 1958, 1956, 1977, 1960, 1964, 1967, 1968, 1963, 1986,\n",
       "       1971, 1969, 1972, 1966, 1976, 1990, 2020, 1979, 1974, 1978, 1981,\n",
       "       1988, 1975, 1989, 2014, '1971', '1970', '1968', '1972', '1969',\n",
       "       '1985', '1973', '\\\\N', '1981', '1974', '1976', '2009', '1980',\n",
       "       '1995', '1986', '2006', '1965', '1987', '1975', '1978', '1967',\n",
       "       '1990', '1977', '2010', '2018', '1979', '1989', '1988', '1984',\n",
       "       '1966', '1983', '1982', '1992', '1991', '1952', '1963', '2022',\n",
       "       '2001', '1961', '1994', '1993', '1964', '1957', '1999', '2019',\n",
       "       '2005', '1953', '2004', '1998', '2020', '1947', '2016', '2002',\n",
       "       '1997', '1959', '1996', '2017', '2000', '1945', '1956', '2021',\n",
       "       '2013', '2003', '1955', '1949', '2008', '2007', '1960', '1930',\n",
       "       '1938', '1929', '1944', '1935', '1962', '1919', '1951', '1914',\n",
       "       '1954', '1958', '1907', '1942', '1918', '1943', '1921', '1927',\n",
       "       '1941', '1939', '1940', '1937', '1950', '1946', '1916', '1948',\n",
       "       '1934', '1912', '1911', '1926', '1933', '1936', '1925', '1932',\n",
       "       '1928', '1917', '1920', '1931', '1913', '1895', '1922', '1923',\n",
       "       '1924', '1900', '1908', '1915', '1910', '1897', '1905', '1909',\n",
       "       '1903', '1902', '1901', '1906', '1904', '1898', '1896', '1899',\n",
       "       '2012', '2023', '2014', '2015', '2011', '1894', '2024', '1892',\n",
       "       '1893', '1891', '1888', '1890', '1889', '2025', '2027', '2026',\n",
       "       '2028', '1878', '1877', '1882', '1881', '2029', '1887', '1874',\n",
       "       '1883', '1885'], dtype=object)"
      ]
     },
     "execution_count": 78,
     "metadata": {},
     "output_type": "execute_result"
    }
   ],
   "source": [
    "df.startYear.unique()"
   ]
  },
  {
   "cell_type": "code",
   "execution_count": 79,
   "id": "fa32c8ae",
   "metadata": {},
   "outputs": [
    {
     "name": "stdout",
     "output_type": "stream",
     "text": [
      "(9093299, 9)\n"
     ]
    }
   ],
   "source": [
    "print(df.shape)"
   ]
  },
  {
   "cell_type": "code",
   "execution_count": 80,
   "id": "93add24c",
   "metadata": {},
   "outputs": [
    {
     "name": "stdout",
     "output_type": "stream",
     "text": [
      "        tconst titleType                 primaryTitle  \\\n",
      "8    tt0000009     movie                   Miss Jerry   \n",
      "498  tt0000502     movie                     Bohemios   \n",
      "570  tt0000574     movie  The Story of the Kelly Gang   \n",
      "587  tt0000591     movie             The Prodigal Son   \n",
      "610  tt0000615     movie           Robbery Under Arms   \n",
      "\n",
      "                   originalTitle isAdult startYear endYear runtimeMinutes  \\\n",
      "8                     Miss Jerry       0      1894      \\N             45   \n",
      "498                     Bohemios       0      1905      \\N            100   \n",
      "570  The Story of the Kelly Gang       0      1906      \\N             70   \n",
      "587            L'enfant prodigue       0      1907      \\N             90   \n",
      "610           Robbery Under Arms       0      1907      \\N             \\N   \n",
      "\n",
      "                         genres  \n",
      "8                       Romance  \n",
      "498                          \\N  \n",
      "570  Action,Adventure,Biography  \n",
      "587                       Drama  \n",
      "610                       Drama  \n",
      "(535173, 9)\n"
     ]
    }
   ],
   "source": [
    "movies_from_1950 = df[(df['titleType'] == 'movie') & (df['startYear'] != '\\\\N')]\n",
    "print(movies_from_1950.head())\n",
    "print(movies_from_1950.shape)"
   ]
  },
  {
   "cell_type": "code",
   "execution_count": 81,
   "id": "f384b11c",
   "metadata": {},
   "outputs": [
    {
     "name": "stdout",
     "output_type": "stream",
     "text": [
      "(9093299, 9)\n"
     ]
    }
   ],
   "source": [
    "print(df.shape)"
   ]
  },
  {
   "cell_type": "code",
   "execution_count": 82,
   "id": "bb6322db",
   "metadata": {},
   "outputs": [
    {
     "name": "stdout",
     "output_type": "stream",
     "text": [
      "        tconst titleType                 primaryTitle  \\\n",
      "8    tt0000009     movie                   Miss Jerry   \n",
      "498  tt0000502     movie                     Bohemios   \n",
      "570  tt0000574     movie  The Story of the Kelly Gang   \n",
      "587  tt0000591     movie             The Prodigal Son   \n",
      "610  tt0000615     movie           Robbery Under Arms   \n",
      "\n",
      "                   originalTitle isAdult startYear endYear runtimeMinutes  \\\n",
      "8                     Miss Jerry       0      1894      \\N             45   \n",
      "498                     Bohemios       0      1905      \\N            100   \n",
      "570  The Story of the Kelly Gang       0      1906      \\N             70   \n",
      "587            L'enfant prodigue       0      1907      \\N             90   \n",
      "610           Robbery Under Arms       0      1907      \\N             \\N   \n",
      "\n",
      "                         genres  \n",
      "8                       Romance  \n",
      "498                          \\N  \n",
      "570  Action,Adventure,Biography  \n",
      "587                       Drama  \n",
      "610                       Drama  \n",
      "(535173, 9)\n"
     ]
    }
   ],
   "source": [
    "movies_from_1950_1 = df[(df['titleType'] == 'movie') & (df['startYear'] != '\\\\N')]\n",
    "print(movies_from_1950_1.head())\n",
    "print(movies_from_1950_1.shape)"
   ]
  },
  {
   "cell_type": "code",
   "execution_count": 102,
   "id": "b9190f3e",
   "metadata": {},
   "outputs": [
    {
     "name": "stdout",
     "output_type": "stream",
     "text": [
      "          tconst titleType                 primaryTitle  \\\n",
      "11636  tt0011801     movie             Tötet nicht mehr   \n",
      "13079  tt0013274     movie  Istoriya grazhdanskoy voyny   \n",
      "15174  tt0015414     movie       La tierra de los toros   \n",
      "15482  tt0015724     movie                Dama de noche   \n",
      "21267  tt0021617     movie            Arizona Territory   \n",
      "\n",
      "                     originalTitle isAdult startYear endYear runtimeMinutes  \\\n",
      "11636             Tötet nicht mehr       0      2019      \\N             \\N   \n",
      "13079  Istoriya grazhdanskoy voyny       0      2021      \\N            133   \n",
      "15174       La tierra de los toros       0      2000      \\N             60   \n",
      "15482                Dama de noche       0      1993      \\N            102   \n",
      "21267            Arizona Territory       0      1950      \\N             56   \n",
      "\n",
      "                      genres  \n",
      "11636           Action,Crime  \n",
      "13079            Documentary  \n",
      "15174                     \\N  \n",
      "15482  Drama,Mystery,Romance  \n",
      "21267                Western  \n",
      "(465226, 9)\n"
     ]
    }
   ],
   "source": [
    "df2 = movies_from_1950_1[(movies_from_1950_1['startYear'].astype('int') >= 1950)]\n",
    "print(df2.head())\n",
    "print(df2.shape)"
   ]
  },
  {
   "cell_type": "code",
   "execution_count": 103,
   "id": "fbcb341c",
   "metadata": {},
   "outputs": [
    {
     "data": {
      "text/plain": [
       "array([1894, 1905, 1906, 1907, 1908, 1909, 1910, 1912, 1911, 1913, 1915,\n",
       "       1914, 1919, 1916, 1917, 1936, 1925, 1918, 1920, 1922, 1921, 1924,\n",
       "       1923, 1928, 2019, 2021, 1926, 1927, 1929, 2000, 1993, 1935, 1930,\n",
       "       1942, 1932, 1931, 1934, 1939, 1937, 1933, 1950, 1938, 1951, 1946,\n",
       "       1940, 1944, 1947, 1941, 1952, 1970, 1957, 1943, 1948, 1945, 2001,\n",
       "       1949, 1953, 1954, 1965, 1983, 1980, 1973, 1961, 1955, 1962, 1958,\n",
       "       1956, 1977, 1964, 1960, 1959, 1967, 1968, 1963, 1971, 1969, 1972,\n",
       "       1966, 1976, 1990, 1979, 1981, 2020, 1975, 1978, 1989, 1974, 1986,\n",
       "       '1971', '1970', '1972', '1973', '1969', '1981', '1974', '1976',\n",
       "       '1968', '1995', '1986', '2006', '1987', '1975', '1965', '1978',\n",
       "       '1967', '1990', '1980', '1985', '2018', '1977', '1989', '1979',\n",
       "       '1984', '1966', '1982', '1988', '1983', '1991', '1963', '2001',\n",
       "       '1961', '1994', '1993', '1964', '1957', '2019', '1992', '2005',\n",
       "       '1953', '2004', '1998', '2020', '1947', '2016', '2002', '1996',\n",
       "       '2017', '1997', '2000', '1945', '1956', '2021', '1999', '1955',\n",
       "       '1949', '2008', '2009', '2003', '2007', '2022', '1930', '1938',\n",
       "       '1959', '1960', '1944', '1935', '1962', '1951', '1954', '1952',\n",
       "       '1958', '1918', '1943', '1921', '1941', '1939', '1940', '1950',\n",
       "       '1946', '1916', '1934', '1948', '1933', '1929', '1936', '1925',\n",
       "       '1932', '1928', '1917', '1919', '1926', '1937', '1931', '1920',\n",
       "       '1942', '1922', '1927', '1923', '1924', '1915', '1914', '1913',\n",
       "       '1911', '2010', '1912', '1909', '1910', '1905', '1898', '1899',\n",
       "       '2012', '1908', '2013', '1906', '2023', '1907', '2011', '1904',\n",
       "       '2024', '2015', '1897', '1901', '1902', '1900', '1903', '2014',\n",
       "       '2025', '2027', '2026', '2028', '2029', '1896'], dtype=object)"
      ]
     },
     "execution_count": 103,
     "metadata": {},
     "output_type": "execute_result"
    }
   ],
   "source": [
    "movies_from_1950_1.startYear.unique()"
   ]
  },
  {
   "cell_type": "code",
   "execution_count": 84,
   "id": "3428cdba",
   "metadata": {},
   "outputs": [
    {
     "data": {
      "text/plain": [
       "(9311, 9)"
      ]
     },
     "execution_count": 84,
     "metadata": {},
     "output_type": "execute_result"
    }
   ],
   "source": [
    "df2[(df2['isAdult'].astype('int') == 1)].shape"
   ]
  },
  {
   "cell_type": "code",
   "execution_count": 85,
   "id": "06bba2a6",
   "metadata": {},
   "outputs": [
    {
     "name": "stdout",
     "output_type": "stream",
     "text": [
      "          tconst titleType                 primaryTitle  \\\n",
      "11636  tt0011801     movie             Tötet nicht mehr   \n",
      "13079  tt0013274     movie  Istoriya grazhdanskoy voyny   \n",
      "15174  tt0015414     movie       La tierra de los toros   \n",
      "15482  tt0015724     movie                Dama de noche   \n",
      "21267  tt0021617     movie            Arizona Territory   \n",
      "\n",
      "                     originalTitle isAdult startYear endYear runtimeMinutes  \\\n",
      "11636             Tötet nicht mehr       0      2019      \\N             \\N   \n",
      "13079  Istoriya grazhdanskoy voyny       0      2021      \\N            133   \n",
      "15174       La tierra de los toros       0      2000      \\N             60   \n",
      "15482                Dama de noche       0      1993      \\N            102   \n",
      "21267            Arizona Territory       0      1950      \\N             56   \n",
      "\n",
      "                      genres  \n",
      "11636           Action,Crime  \n",
      "13079            Documentary  \n",
      "15174                     \\N  \n",
      "15482  Drama,Mystery,Romance  \n",
      "21267                Western  \n",
      "(455915, 9)\n"
     ]
    }
   ],
   "source": [
    "df3 = df2[(df2['isAdult'].astype('int') == 0)]\n",
    "print(df3.head())\n",
    "print(df3.shape)"
   ]
  },
  {
   "cell_type": "code",
   "execution_count": 86,
   "id": "35874332",
   "metadata": {},
   "outputs": [
    {
     "data": {
      "text/plain": [
       "array(['\\\\N', '133', '60', '102', '56', '100', '87', '81', '86', '101',\n",
       "       '92', '88', '118', '99', '89', '80', '146', '79', '78', '77', '75',\n",
       "       '82', '95', '125', '58', '90', '108', '120', '85', '98', '110',\n",
       "       '70', '96', '61', '107', '122', '97', '115', '105', '84', '93',\n",
       "       '91', '106', '71', '53', '112', '113', '167', '68', '72', '109',\n",
       "       '83', '67', '55', '121', '126', '94', '138', '128', '252', '73',\n",
       "       '148', '66', '64', '69', '57', '103', '104', '140', '117', '74',\n",
       "       '270', '59', '76', '63', '150', '124', '65', '62', '114', '127',\n",
       "       '111', '136', '54', '116', '260', '52', '156', '169', '193', '143',\n",
       "       '170', '51', '287', '144', '119', '166', '130', '192', '171', '50',\n",
       "       '161', '155', '165', '242', '183', '47', '149', '129', '152',\n",
       "       '132', '137', '228', '154', '135', '240', '48', '181', '175',\n",
       "       '174', '123', '179', '157', '139', '45', '131', '145', '230',\n",
       "       '246', '151', '173', '134', '158', '142', '218', '141', '315',\n",
       "       '147', '160', '280', '207', '46', '225', '159', '49', '163', '182',\n",
       "       '162', '164', '168', '177', '239', '178', '201', '153', '176',\n",
       "       '248', '204', '220', '208', '172', '210', '330', '212', '180',\n",
       "       '188', '10', '197', '219', '209', '196', '190', '205', '18', '186',\n",
       "       '21', '191', '189', '238', '185', '234', '226', '232', '453',\n",
       "       '216', '200', '221', '224', '203', '253', '184', '275', '251',\n",
       "       '23', '202', '227', '264', '217', '195', '187', '2', '245', '302',\n",
       "       '317', '763', '311', '278', '273', '442', '235', '269', '261',\n",
       "       '288', '40', '285', '255', '194', '222', '229', '199', '437',\n",
       "       '367', '566', '410', '15', '284', '272', '215', '267', '357',\n",
       "       '873', '358', '335', '265', '237', '214', '213', '247', '206', '3',\n",
       "       '501', '735', '271', '298', '236', '439', '316', '328', '620',\n",
       "       '223', '198', '277', '28', '700', '257', '20', '360', '371', '299',\n",
       "       '665', '17', '211', '400', '9', '29', '308', '659', '426', '465',\n",
       "       '1500', '321', '11', '485', '42', '27', '243', '250', '33', '19',\n",
       "       '385', '38', '338', '776', '340', '231', '43', '254', '32', '380',\n",
       "       '345', '233', '13', '16', '5', '420', '580', '323', '312', '22',\n",
       "       '30', '5220', '25', '258', '6', '336', '300', '2880', '263', '366',\n",
       "       '301', '4', '1970', '551', '720', '262', '392', '999', '402',\n",
       "       '540', '395', '305', '414', '363', '268', '259', '719', '429',\n",
       "       '37', '325', '279', '350', '241', '296', '388', '450', '669', '8',\n",
       "       '44', '390', '35', '10062', '36', '2160', '26', '14', '12', '480',\n",
       "       '368', '289', '326', '282', '570', '384', '1325', '369', '319',\n",
       "       '320', '495', '460', '28643', '354', '331', '663', '244', '256',\n",
       "       '520', '435', '372', '1320', '468', '7', '1', '41', '840', '34',\n",
       "       '950', '276', '375', '409', '31', '39', '292', '675', '397',\n",
       "       '1452', '310', '293', '24', '249', '373', '343', '339', '641',\n",
       "       '361', '294', '283', '332', '396', '7200', '1440', '364', '425',\n",
       "       '356', '1800', '502', '680', '761', '274', '2400', '500', '1669',\n",
       "       '322', '605', '307', '398', '865', '266', '304', '490', '418',\n",
       "       '518', '393', '353', '324', '842', '545', '291', '9000', '613',\n",
       "       '411', '333', '14400', '404', '416', '476', '286', '382', '780',\n",
       "       '341', '3077', '43200', '1200', '352', '600', '334', '1151', '549',\n",
       "       '6000', '2905', '5460', '467', '448', '607', '379', '303', '1559',\n",
       "       '900', '4080', '346', '406', '1260', '623', '378', '746', '1184',\n",
       "       '365', '383', '359', '281', '51420', '1100', '601', '290', '660',\n",
       "       '295', '808', '447'], dtype=object)"
      ]
     },
     "execution_count": 86,
     "metadata": {},
     "output_type": "execute_result"
    }
   ],
   "source": [
    "df3.runtimeMinutes.unique()"
   ]
  },
  {
   "cell_type": "code",
   "execution_count": 87,
   "id": "846a4fa4",
   "metadata": {},
   "outputs": [
    {
     "data": {
      "text/html": [
       "<div>\n",
       "<style scoped>\n",
       "    .dataframe tbody tr th:only-of-type {\n",
       "        vertical-align: middle;\n",
       "    }\n",
       "\n",
       "    .dataframe tbody tr th {\n",
       "        vertical-align: top;\n",
       "    }\n",
       "\n",
       "    .dataframe thead th {\n",
       "        text-align: right;\n",
       "    }\n",
       "</style>\n",
       "<table border=\"1\" class=\"dataframe\">\n",
       "  <thead>\n",
       "    <tr style=\"text-align: right;\">\n",
       "      <th></th>\n",
       "      <th>tconst</th>\n",
       "      <th>titleType</th>\n",
       "      <th>primaryTitle</th>\n",
       "      <th>originalTitle</th>\n",
       "      <th>isAdult</th>\n",
       "      <th>startYear</th>\n",
       "      <th>endYear</th>\n",
       "      <th>runtimeMinutes</th>\n",
       "      <th>genres</th>\n",
       "    </tr>\n",
       "  </thead>\n",
       "  <tbody>\n",
       "    <tr>\n",
       "      <th>2949141</th>\n",
       "      <td>tt13605848</td>\n",
       "      <td>movie</td>\n",
       "      <td>Enakkul Oru Kadhal</td>\n",
       "      <td>Enakkul Oru Kadhal</td>\n",
       "      <td>0</td>\n",
       "      <td>2009</td>\n",
       "      <td>\\N</td>\n",
       "      <td>97</td>\n",
       "      <td>Drama</td>\n",
       "    </tr>\n",
       "    <tr>\n",
       "      <th>2949146</th>\n",
       "      <td>tt13605858</td>\n",
       "      <td>movie</td>\n",
       "      <td>Balam</td>\n",
       "      <td>Balam</td>\n",
       "      <td>0</td>\n",
       "      <td>2009</td>\n",
       "      <td>\\N</td>\n",
       "      <td>\\N</td>\n",
       "      <td>Drama</td>\n",
       "    </tr>\n",
       "    <tr>\n",
       "      <th>2949182</th>\n",
       "      <td>tt13605918</td>\n",
       "      <td>movie</td>\n",
       "      <td>Vairam</td>\n",
       "      <td>Vairam</td>\n",
       "      <td>0</td>\n",
       "      <td>2009</td>\n",
       "      <td>\\N</td>\n",
       "      <td>123</td>\n",
       "      <td>Drama</td>\n",
       "    </tr>\n",
       "    <tr>\n",
       "      <th>2949209</th>\n",
       "      <td>tt13605964</td>\n",
       "      <td>movie</td>\n",
       "      <td>Thozhi</td>\n",
       "      <td>Thozhi</td>\n",
       "      <td>0</td>\n",
       "      <td>2009</td>\n",
       "      <td>\\N</td>\n",
       "      <td>125</td>\n",
       "      <td>Drama</td>\n",
       "    </tr>\n",
       "    <tr>\n",
       "      <th>2949210</th>\n",
       "      <td>tt13605968</td>\n",
       "      <td>movie</td>\n",
       "      <td>Slay</td>\n",
       "      <td>Slay</td>\n",
       "      <td>0</td>\n",
       "      <td>2017</td>\n",
       "      <td>\\N</td>\n",
       "      <td>\\N</td>\n",
       "      <td>Documentary</td>\n",
       "    </tr>\n",
       "    <tr>\n",
       "      <th>2949212</th>\n",
       "      <td>tt13605970</td>\n",
       "      <td>movie</td>\n",
       "      <td>Pachiyapuram</td>\n",
       "      <td>Pachiyapuram</td>\n",
       "      <td>0</td>\n",
       "      <td>2009</td>\n",
       "      <td>\\N</td>\n",
       "      <td>\\N</td>\n",
       "      <td>Drama</td>\n",
       "    </tr>\n",
       "    <tr>\n",
       "      <th>2949224</th>\n",
       "      <td>tt13605994</td>\n",
       "      <td>movie</td>\n",
       "      <td>Pinju Manasu</td>\n",
       "      <td>Pinju Manasu</td>\n",
       "      <td>0</td>\n",
       "      <td>2009</td>\n",
       "      <td>\\N</td>\n",
       "      <td>135</td>\n",
       "      <td>Drama</td>\n",
       "    </tr>\n",
       "    <tr>\n",
       "      <th>2949228</th>\n",
       "      <td>tt13606000</td>\n",
       "      <td>movie</td>\n",
       "      <td>Coffee Lovers</td>\n",
       "      <td>Coffee Lovers</td>\n",
       "      <td>0</td>\n",
       "      <td>2006</td>\n",
       "      <td>\\N</td>\n",
       "      <td>90</td>\n",
       "      <td>Comedy</td>\n",
       "    </tr>\n",
       "    <tr>\n",
       "      <th>2949237</th>\n",
       "      <td>tt13606016</td>\n",
       "      <td>movie</td>\n",
       "      <td>Bangaru Padam</td>\n",
       "      <td>Bangaru Padam</td>\n",
       "      <td>0</td>\n",
       "      <td>2015</td>\n",
       "      <td>\\N</td>\n",
       "      <td>\\N</td>\n",
       "      <td>Drama</td>\n",
       "    </tr>\n",
       "    <tr>\n",
       "      <th>2949254</th>\n",
       "      <td>tt13606044</td>\n",
       "      <td>movie</td>\n",
       "      <td>Meendum Meendum Nee</td>\n",
       "      <td>Meendum Meendum Nee</td>\n",
       "      <td>0</td>\n",
       "      <td>2009</td>\n",
       "      <td>\\N</td>\n",
       "      <td>\\N</td>\n",
       "      <td>Drama</td>\n",
       "    </tr>\n",
       "  </tbody>\n",
       "</table>\n",
       "</div>"
      ],
      "text/plain": [
       "             tconst titleType         primaryTitle        originalTitle  \\\n",
       "2949141  tt13605848     movie   Enakkul Oru Kadhal   Enakkul Oru Kadhal   \n",
       "2949146  tt13605858     movie                Balam                Balam   \n",
       "2949182  tt13605918     movie               Vairam               Vairam   \n",
       "2949209  tt13605964     movie               Thozhi               Thozhi   \n",
       "2949210  tt13605968     movie                 Slay                 Slay   \n",
       "2949212  tt13605970     movie         Pachiyapuram         Pachiyapuram   \n",
       "2949224  tt13605994     movie         Pinju Manasu         Pinju Manasu   \n",
       "2949228  tt13606000     movie        Coffee Lovers        Coffee Lovers   \n",
       "2949237  tt13606016     movie        Bangaru Padam        Bangaru Padam   \n",
       "2949254  tt13606044     movie  Meendum Meendum Nee  Meendum Meendum Nee   \n",
       "\n",
       "        isAdult startYear endYear runtimeMinutes       genres  \n",
       "2949141       0      2009      \\N             97        Drama  \n",
       "2949146       0      2009      \\N             \\N        Drama  \n",
       "2949182       0      2009      \\N            123        Drama  \n",
       "2949209       0      2009      \\N            125        Drama  \n",
       "2949210       0      2017      \\N             \\N  Documentary  \n",
       "2949212       0      2009      \\N             \\N        Drama  \n",
       "2949224       0      2009      \\N            135        Drama  \n",
       "2949228       0      2006      \\N             90       Comedy  \n",
       "2949237       0      2015      \\N             \\N        Drama  \n",
       "2949254       0      2009      \\N             \\N        Drama  "
      ]
     },
     "execution_count": 87,
     "metadata": {},
     "output_type": "execute_result"
    }
   ],
   "source": [
    "df3[(df3['endYear'] != '\\\\N')].shape\n",
    "df3[(df3['isAdult'] != 0)].head(10)\n"
   ]
  },
  {
   "cell_type": "code",
   "execution_count": 88,
   "id": "e6efcac4",
   "metadata": {},
   "outputs": [],
   "source": [
    "df4 = df3"
   ]
  },
  {
   "cell_type": "code",
   "execution_count": 89,
   "id": "a014fc44",
   "metadata": {},
   "outputs": [
    {
     "data": {
      "text/html": [
       "<div>\n",
       "<style scoped>\n",
       "    .dataframe tbody tr th:only-of-type {\n",
       "        vertical-align: middle;\n",
       "    }\n",
       "\n",
       "    .dataframe tbody tr th {\n",
       "        vertical-align: top;\n",
       "    }\n",
       "\n",
       "    .dataframe thead th {\n",
       "        text-align: right;\n",
       "    }\n",
       "</style>\n",
       "<table border=\"1\" class=\"dataframe\">\n",
       "  <thead>\n",
       "    <tr style=\"text-align: right;\">\n",
       "      <th></th>\n",
       "      <th>tconst</th>\n",
       "      <th>titleType</th>\n",
       "      <th>primaryTitle</th>\n",
       "      <th>originalTitle</th>\n",
       "      <th>startYear</th>\n",
       "      <th>runtimeMinutes</th>\n",
       "      <th>genres</th>\n",
       "    </tr>\n",
       "  </thead>\n",
       "  <tbody>\n",
       "    <tr>\n",
       "      <th>11636</th>\n",
       "      <td>tt0011801</td>\n",
       "      <td>movie</td>\n",
       "      <td>Tötet nicht mehr</td>\n",
       "      <td>Tötet nicht mehr</td>\n",
       "      <td>2019</td>\n",
       "      <td>\\N</td>\n",
       "      <td>Action,Crime</td>\n",
       "    </tr>\n",
       "    <tr>\n",
       "      <th>13079</th>\n",
       "      <td>tt0013274</td>\n",
       "      <td>movie</td>\n",
       "      <td>Istoriya grazhdanskoy voyny</td>\n",
       "      <td>Istoriya grazhdanskoy voyny</td>\n",
       "      <td>2021</td>\n",
       "      <td>133</td>\n",
       "      <td>Documentary</td>\n",
       "    </tr>\n",
       "    <tr>\n",
       "      <th>15174</th>\n",
       "      <td>tt0015414</td>\n",
       "      <td>movie</td>\n",
       "      <td>La tierra de los toros</td>\n",
       "      <td>La tierra de los toros</td>\n",
       "      <td>2000</td>\n",
       "      <td>60</td>\n",
       "      <td>\\N</td>\n",
       "    </tr>\n",
       "    <tr>\n",
       "      <th>15482</th>\n",
       "      <td>tt0015724</td>\n",
       "      <td>movie</td>\n",
       "      <td>Dama de noche</td>\n",
       "      <td>Dama de noche</td>\n",
       "      <td>1993</td>\n",
       "      <td>102</td>\n",
       "      <td>Drama,Mystery,Romance</td>\n",
       "    </tr>\n",
       "    <tr>\n",
       "      <th>21267</th>\n",
       "      <td>tt0021617</td>\n",
       "      <td>movie</td>\n",
       "      <td>Arizona Territory</td>\n",
       "      <td>Arizona Territory</td>\n",
       "      <td>1950</td>\n",
       "      <td>56</td>\n",
       "      <td>Western</td>\n",
       "    </tr>\n",
       "    <tr>\n",
       "      <th>21704</th>\n",
       "      <td>tt0022064</td>\n",
       "      <td>movie</td>\n",
       "      <td>Lebbra bianca</td>\n",
       "      <td>Lebbra bianca</td>\n",
       "      <td>1951</td>\n",
       "      <td>100</td>\n",
       "      <td>Drama</td>\n",
       "    </tr>\n",
       "    <tr>\n",
       "      <th>25107</th>\n",
       "      <td>tt0025557</td>\n",
       "      <td>movie</td>\n",
       "      <td>El negro que tenía el alma blanca</td>\n",
       "      <td>El negro que tenía el alma blanca</td>\n",
       "      <td>1951</td>\n",
       "      <td>87</td>\n",
       "      <td>Drama,Musical</td>\n",
       "    </tr>\n",
       "    <tr>\n",
       "      <th>30442</th>\n",
       "      <td>tt0030998</td>\n",
       "      <td>movie</td>\n",
       "      <td>You're Only Young Twice</td>\n",
       "      <td>You're Only Young Twice</td>\n",
       "      <td>1952</td>\n",
       "      <td>81</td>\n",
       "      <td>Comedy</td>\n",
       "    </tr>\n",
       "    <tr>\n",
       "      <th>30891</th>\n",
       "      <td>tt0031458</td>\n",
       "      <td>movie</td>\n",
       "      <td>El huésped del sevillano</td>\n",
       "      <td>El huésped del sevillano</td>\n",
       "      <td>1970</td>\n",
       "      <td>86</td>\n",
       "      <td>Comedy</td>\n",
       "    </tr>\n",
       "    <tr>\n",
       "      <th>31036</th>\n",
       "      <td>tt0031603</td>\n",
       "      <td>movie</td>\n",
       "      <td>Made in Germany - Die dramatische Geschichte d...</td>\n",
       "      <td>Made in Germany</td>\n",
       "      <td>1957</td>\n",
       "      <td>101</td>\n",
       "      <td>Biography,Drama</td>\n",
       "    </tr>\n",
       "  </tbody>\n",
       "</table>\n",
       "</div>"
      ],
      "text/plain": [
       "          tconst titleType                                       primaryTitle  \\\n",
       "11636  tt0011801     movie                                   Tötet nicht mehr   \n",
       "13079  tt0013274     movie                        Istoriya grazhdanskoy voyny   \n",
       "15174  tt0015414     movie                             La tierra de los toros   \n",
       "15482  tt0015724     movie                                      Dama de noche   \n",
       "21267  tt0021617     movie                                  Arizona Territory   \n",
       "21704  tt0022064     movie                                      Lebbra bianca   \n",
       "25107  tt0025557     movie                  El negro que tenía el alma blanca   \n",
       "30442  tt0030998     movie                            You're Only Young Twice   \n",
       "30891  tt0031458     movie                           El huésped del sevillano   \n",
       "31036  tt0031603     movie  Made in Germany - Die dramatische Geschichte d...   \n",
       "\n",
       "                           originalTitle startYear runtimeMinutes  \\\n",
       "11636                   Tötet nicht mehr      2019             \\N   \n",
       "13079        Istoriya grazhdanskoy voyny      2021            133   \n",
       "15174             La tierra de los toros      2000             60   \n",
       "15482                      Dama de noche      1993            102   \n",
       "21267                  Arizona Territory      1950             56   \n",
       "21704                      Lebbra bianca      1951            100   \n",
       "25107  El negro que tenía el alma blanca      1951             87   \n",
       "30442            You're Only Young Twice      1952             81   \n",
       "30891           El huésped del sevillano      1970             86   \n",
       "31036                    Made in Germany      1957            101   \n",
       "\n",
       "                      genres  \n",
       "11636           Action,Crime  \n",
       "13079            Documentary  \n",
       "15174                     \\N  \n",
       "15482  Drama,Mystery,Romance  \n",
       "21267                Western  \n",
       "21704                  Drama  \n",
       "25107          Drama,Musical  \n",
       "30442                 Comedy  \n",
       "30891                 Comedy  \n",
       "31036        Biography,Drama  "
      ]
     },
     "execution_count": 89,
     "metadata": {},
     "output_type": "execute_result"
    }
   ],
   "source": [
    "block = pd.DataFrame(df4)\n",
    "block.pop('isAdult')\n",
    "block.pop('endYear')\n",
    "block.head(10)"
   ]
  },
  {
   "cell_type": "code",
   "execution_count": 1,
   "id": "75c23ae1",
   "metadata": {},
   "outputs": [
    {
     "data": {
      "text/plain": [
       "'/Users/davidkatilius/Documents/Jupyter_Notebook'"
      ]
     },
     "execution_count": 1,
     "metadata": {},
     "output_type": "execute_result"
    }
   ],
   "source": [
    "import os\n",
    "os.getcwd()"
   ]
  },
  {
   "cell_type": "code",
   "execution_count": 92,
   "id": "c7426a69",
   "metadata": {},
   "outputs": [],
   "source": [
    "block.to_csv(r'cleaned_title_data.csv', index=False)\n"
   ]
  },
  {
   "cell_type": "code",
   "execution_count": 96,
   "id": "5702ad0e",
   "metadata": {},
   "outputs": [
    {
     "data": {
      "text/plain": [
       "(455915, 7)"
      ]
     },
     "metadata": {},
     "output_type": "display_data"
    }
   ],
   "source": [
    "display(block.shape)\n"
   ]
  },
  {
   "cell_type": "code",
   "execution_count": 98,
   "id": "144662d3",
   "metadata": {},
   "outputs": [
    {
     "data": {
      "text/plain": [
       "tconst            tt9916730\n",
       "titleType             movie\n",
       "primaryTitle         6 Gunn\n",
       "originalTitle        6 Gunn\n",
       "startYear              2017\n",
       "runtimeMinutes          116\n",
       "genres                   \\N\n",
       "Name: 9093239, dtype: object"
      ]
     },
     "metadata": {},
     "output_type": "display_data"
    }
   ],
   "source": [
    "df5 = block[(block['titleType'] == 'movie') & (df['startYear'] != '\\\\N')]\n",
    "print(movies_from_1950.head())\n",
    "print(movies_from_1950.shape)"
   ]
  }
 ],
 "metadata": {
  "kernelspec": {
   "display_name": "Python 3 (ipykernel)",
   "language": "python",
   "name": "python3"
  },
  "language_info": {
   "codemirror_mode": {
    "name": "ipython",
    "version": 3
   },
   "file_extension": ".py",
   "mimetype": "text/x-python",
   "name": "python",
   "nbconvert_exporter": "python",
   "pygments_lexer": "ipython3",
   "version": "3.10.5"
  }
 },
 "nbformat": 4,
 "nbformat_minor": 5
}
